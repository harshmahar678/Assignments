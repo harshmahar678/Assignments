{
 "cells": [
  {
   "cell_type": "code",
   "execution_count": 1,
   "id": "fb5a7a99-d842-4137-80ca-0a6b2a0b41ca",
   "metadata": {},
   "outputs": [],
   "source": [
    "## Dictionary"
   ]
  },
  {
   "cell_type": "code",
   "execution_count": 3,
   "id": "3b568728-5571-4d54-9f29-aff072a18305",
   "metadata": {},
   "outputs": [
    {
     "data": {
      "text/plain": [
       "dict"
      ]
     },
     "execution_count": 3,
     "metadata": {},
     "output_type": "execute_result"
    }
   ],
   "source": [
    "d = {}\n",
    "type(d)"
   ]
  },
  {
   "cell_type": "code",
   "execution_count": 4,
   "id": "714d6577-0f95-4c54-9ac4-c256fdb93303",
   "metadata": {},
   "outputs": [],
   "source": [
    "d1 = {\"Key\" : \"Harsh\"}"
   ]
  },
  {
   "cell_type": "code",
   "execution_count": 5,
   "id": "6c5ccb72-5041-4252-84ef-2ad49d610e9d",
   "metadata": {},
   "outputs": [
    {
     "data": {
      "text/plain": [
       "dict"
      ]
     },
     "execution_count": 5,
     "metadata": {},
     "output_type": "execute_result"
    }
   ],
   "source": [
    "type(d1)"
   ]
  },
  {
   "cell_type": "code",
   "execution_count": 6,
   "id": "332ca9f3-352f-4ea9-92b7-44d0ea3467ca",
   "metadata": {},
   "outputs": [
    {
     "data": {
      "text/plain": [
       "{'Key': 'Harsh'}"
      ]
     },
     "execution_count": 6,
     "metadata": {},
     "output_type": "execute_result"
    }
   ],
   "source": [
    "d1"
   ]
  },
  {
   "cell_type": "code",
   "execution_count": 7,
   "id": "be0f2028-3073-45bc-b62a-8248e62e9a3d",
   "metadata": {},
   "outputs": [],
   "source": [
    "d2 = {\"Name\":\"Harsh Verma\" ,\"Email\" : \"ss@gmail\",\"number\":99823974548}"
   ]
  },
  {
   "cell_type": "code",
   "execution_count": 8,
   "id": "2b5591d1-0a4e-48a9-95db-fb1a44de8b86",
   "metadata": {},
   "outputs": [
    {
     "data": {
      "text/plain": [
       "{'Name': 'Harsh Verma', 'Email': 'ss@gmail', 'number': 99823974548}"
      ]
     },
     "execution_count": 8,
     "metadata": {},
     "output_type": "execute_result"
    }
   ],
   "source": [
    "d2"
   ]
  },
  {
   "cell_type": "code",
   "execution_count": 18,
   "id": "80a3a9e9-41f7-40d2-9e98-0920e0964bdb",
   "metadata": {},
   "outputs": [
    {
     "data": {
      "text/plain": [
       "{1: 85499, 'wer@': 'tushar'}"
      ]
     },
     "execution_count": 18,
     "metadata": {},
     "output_type": "execute_result"
    }
   ],
   "source": [
    "d3 = {1:\"Mahar\",\"wer@\":\"tushar\",True : 85499}\n",
    "d3"
   ]
  },
  {
   "cell_type": "code",
   "execution_count": 23,
   "id": "1cf03d86-11f3-4d51-82b1-a4ae0ef53c44",
   "metadata": {},
   "outputs": [
    {
     "data": {
      "text/plain": [
       "{1: 85499, 'wer@': 'tushar'}"
      ]
     },
     "execution_count": 23,
     "metadata": {},
     "output_type": "execute_result"
    }
   ],
   "source": [
    "d3\n"
   ]
  },
  {
   "cell_type": "code",
   "execution_count": 19,
   "id": "fe9dd115-3bad-4d9f-abeb-9f897084b870",
   "metadata": {},
   "outputs": [],
   "source": [
    "## Use Keys instead of Indexing in Dictionaries"
   ]
  },
  {
   "cell_type": "code",
   "execution_count": 20,
   "id": "848aaf11-0aba-464e-b6bf-42972bbb9873",
   "metadata": {},
   "outputs": [
    {
     "data": {
      "text/plain": [
       "'tushar'"
      ]
     },
     "execution_count": 20,
     "metadata": {},
     "output_type": "execute_result"
    }
   ],
   "source": [
    "d3[\"wer@\"]"
   ]
  },
  {
   "cell_type": "code",
   "execution_count": 21,
   "id": "36fd7591-11a9-4f40-89d4-0356e3f7a444",
   "metadata": {},
   "outputs": [
    {
     "data": {
      "text/plain": [
       "85499"
      ]
     },
     "execution_count": 21,
     "metadata": {},
     "output_type": "execute_result"
    }
   ],
   "source": [
    "d3[True]"
   ]
  },
  {
   "cell_type": "code",
   "execution_count": 22,
   "id": "00e83e82-527a-4522-8152-bbb09989183e",
   "metadata": {},
   "outputs": [
    {
     "data": {
      "text/plain": [
       "85499"
      ]
     },
     "execution_count": 22,
     "metadata": {},
     "output_type": "execute_result"
    }
   ],
   "source": [
    "d3[1]"
   ]
  },
  {
   "cell_type": "code",
   "execution_count": 26,
   "id": "94c3bed0-8464-4d86-a030-e847e8a67b9f",
   "metadata": {},
   "outputs": [],
   "source": [
    "d4 = {'name':\"Sudh\",'mail_id':\"harshmahat@gmail.com\",'name':'mahar'}"
   ]
  },
  {
   "cell_type": "code",
   "execution_count": 27,
   "id": "27716923-0a53-4d64-b117-b6d8cea0624e",
   "metadata": {},
   "outputs": [
    {
     "data": {
      "text/plain": [
       "'mahar'"
      ]
     },
     "execution_count": 27,
     "metadata": {},
     "output_type": "execute_result"
    }
   ],
   "source": [
    "d4['name']"
   ]
  },
  {
   "cell_type": "code",
   "execution_count": 28,
   "id": "791a94e4-fb5d-4e4e-a5ed-74c33c47ecda",
   "metadata": {},
   "outputs": [],
   "source": [
    "d5={'company':'pwskills','courses':[\"web dev\",\"Data science\",\"Java\"]}"
   ]
  },
  {
   "cell_type": "code",
   "execution_count": 29,
   "id": "dd79e98c-dc83-49af-a88d-f38ceced8a99",
   "metadata": {},
   "outputs": [
    {
     "data": {
      "text/plain": [
       "['web dev', 'Data science', 'Java']"
      ]
     },
     "execution_count": 29,
     "metadata": {},
     "output_type": "execute_result"
    }
   ],
   "source": [
    "d5['courses']"
   ]
  },
  {
   "cell_type": "code",
   "execution_count": 30,
   "id": "d05c8e9d-932b-494f-bb7c-ac2281325984",
   "metadata": {},
   "outputs": [
    {
     "data": {
      "text/plain": [
       "{'company': 'pwskills', 'courses': ['web dev', 'Data science', 'Java']}"
      ]
     },
     "execution_count": 30,
     "metadata": {},
     "output_type": "execute_result"
    }
   ],
   "source": [
    "d5"
   ]
  },
  {
   "cell_type": "code",
   "execution_count": 31,
   "id": "5f34d969-35d5-42cf-a564-d2ee8e82a040",
   "metadata": {},
   "outputs": [
    {
     "data": {
      "text/plain": [
       "'Java'"
      ]
     },
     "execution_count": 31,
     "metadata": {},
     "output_type": "execute_result"
    }
   ],
   "source": [
    "d5['courses'][2]"
   ]
  },
  {
   "cell_type": "code",
   "execution_count": 37,
   "id": "288c2b44-2e9f-4b8b-a014-63c717b225b2",
   "metadata": {},
   "outputs": [],
   "source": [
    "d6 = {\"number\":[12,15,9,465,856],\"assignments\":(1,2,3,45,78),\"launch_date\":{28,4,5,9},\"timing\":{\"web_dev\":4,\"Java\":6}}"
   ]
  },
  {
   "cell_type": "code",
   "execution_count": 38,
   "id": "dc2dc5f9-c4e4-429a-8499-4ed254071121",
   "metadata": {},
   "outputs": [
    {
     "data": {
      "text/plain": [
       "{'number': [12, 15, 9, 465, 856],\n",
       " 'assignments': (1, 2, 3, 45, 78),\n",
       " 'launch_date': {4, 5, 9, 28},\n",
       " 'timing': {'web_dev': 4, 'Java': 6}}"
      ]
     },
     "execution_count": 38,
     "metadata": {},
     "output_type": "execute_result"
    }
   ],
   "source": [
    "d6"
   ]
  },
  {
   "cell_type": "code",
   "execution_count": 39,
   "id": "79e596c9-1704-4f1d-b0cc-53f9a6765fe7",
   "metadata": {},
   "outputs": [
    {
     "data": {
      "text/plain": [
       "6"
      ]
     },
     "execution_count": 39,
     "metadata": {},
     "output_type": "execute_result"
    }
   ],
   "source": [
    "d6[\"timing\"][\"Java\"]"
   ]
  },
  {
   "cell_type": "code",
   "execution_count": 40,
   "id": "b7313524-8db9-40a2-a5cc-c3ac1051a6b7",
   "metadata": {},
   "outputs": [],
   "source": [
    "d6[\"mentor\"]=[\"Sudhanshu\",\"Krish\",\"anurag\"]"
   ]
  },
  {
   "cell_type": "code",
   "execution_count": 41,
   "id": "763c4b33-e578-4679-b9dc-8fe6503afff4",
   "metadata": {},
   "outputs": [
    {
     "data": {
      "text/plain": [
       "{'number': [12, 15, 9, 465, 856],\n",
       " 'assignments': (1, 2, 3, 45, 78),\n",
       " 'launch_date': {4, 5, 9, 28},\n",
       " 'timing': {'web_dev': 4, 'Java': 6},\n",
       " 'mentor': ['Sudhanshu', 'Krish', 'anurag']}"
      ]
     },
     "execution_count": 41,
     "metadata": {},
     "output_type": "execute_result"
    }
   ],
   "source": [
    "d6"
   ]
  },
  {
   "cell_type": "code",
   "execution_count": 42,
   "id": "0a8481a7-cc77-4662-bcc2-559c63a21300",
   "metadata": {},
   "outputs": [],
   "source": [
    "del d6[\"mentor\"]"
   ]
  },
  {
   "cell_type": "code",
   "execution_count": 43,
   "id": "e8e17eda-c074-4af2-8b0c-515c299566bb",
   "metadata": {},
   "outputs": [
    {
     "data": {
      "text/plain": [
       "{'number': [12, 15, 9, 465, 856],\n",
       " 'assignments': (1, 2, 3, 45, 78),\n",
       " 'launch_date': {4, 5, 9, 28},\n",
       " 'timing': {'web_dev': 4, 'Java': 6}}"
      ]
     },
     "execution_count": 43,
     "metadata": {},
     "output_type": "execute_result"
    }
   ],
   "source": [
    "d6"
   ]
  },
  {
   "cell_type": "code",
   "execution_count": 47,
   "id": "fc5162bf-2deb-4360-a59d-e99de4028315",
   "metadata": {},
   "outputs": [
    {
     "data": {
      "text/plain": [
       "['number', 'assignments', 'launch_date', 'timing']"
      ]
     },
     "execution_count": 47,
     "metadata": {},
     "output_type": "execute_result"
    }
   ],
   "source": [
    "list(d6.keys())"
   ]
  },
  {
   "cell_type": "code",
   "execution_count": 46,
   "id": "afa045e1-2d9a-4e8d-964b-fc202e47e23e",
   "metadata": {},
   "outputs": [
    {
     "data": {
      "text/plain": [
       "dict_items([('number', [12, 15, 9, 465, 856]), ('assignments', (1, 2, 3, 45, 78)), ('launch_date', {9, 4, 28, 5}), ('timing', {'web_dev': 4, 'Java': 6})])"
      ]
     },
     "execution_count": 46,
     "metadata": {},
     "output_type": "execute_result"
    }
   ],
   "source": [
    "d6.items()"
   ]
  },
  {
   "cell_type": "code",
   "execution_count": 48,
   "id": "fa2babd0-f4ef-43c1-a4e9-d4155737ce3c",
   "metadata": {},
   "outputs": [
    {
     "data": {
      "text/plain": [
       "[[12, 15, 9, 465, 856],\n",
       " (1, 2, 3, 45, 78),\n",
       " {4, 5, 9, 28},\n",
       " {'web_dev': 4, 'Java': 6}]"
      ]
     },
     "execution_count": 48,
     "metadata": {},
     "output_type": "execute_result"
    }
   ],
   "source": [
    "list(d6.values())"
   ]
  },
  {
   "cell_type": "code",
   "execution_count": 50,
   "id": "35bc46b4-a6ec-48d1-a9f0-b52a2162a592",
   "metadata": {},
   "outputs": [
    {
     "data": {
      "text/plain": [
       "[12, 15, 9, 465, 856]"
      ]
     },
     "execution_count": 50,
     "metadata": {},
     "output_type": "execute_result"
    }
   ],
   "source": [
    "d6.pop(\"number\")"
   ]
  },
  {
   "cell_type": "code",
   "execution_count": 60,
   "id": "3995c3f2-0ce9-4096-9ae3-31070a8bfe6c",
   "metadata": {},
   "outputs": [
    {
     "data": {
      "text/plain": [
       "{'assignments': (1, 2, 3, 45, 78),\n",
       " 'launch_date': {4, 5, 9, 28},\n",
       " 'timing': {'web_dev': 4, 'Java': 6}}"
      ]
     },
     "execution_count": 60,
     "metadata": {},
     "output_type": "execute_result"
    }
   ],
   "source": [
    "d6"
   ]
  },
  {
   "cell_type": "code",
   "execution_count": 61,
   "id": "02e53a78-e0dd-4106-bc87-e61265c78443",
   "metadata": {},
   "outputs": [
    {
     "name": "stdin",
     "output_type": "stream",
     "text": [
      "Enter your marks Here:  85\n"
     ]
    },
    {
     "name": "stdout",
     "output_type": "stream",
     "text": [
      "You will be a part of A0 Batch\n"
     ]
    }
   ],
   "source": [
    "marks=int(input(\"Enter your marks Here: \"))\n",
    "if marks >= 80 :\n",
    "    print(\"You will be a part of A0 Batch\")\n",
    "elif marks >= 60 and marks < 80 :\n",
    "    print(\"You will be a part of A1 Batch\")\n",
    "elif marks < 60 and marks >= 40 :\n",
    "    print(\"You will be a part of A2 Batch\")\n",
    "else :\n",
    "    print(\"You will be a part of A3 Batch\")\n",
    "    "
   ]
  },
  {
   "cell_type": "code",
   "execution_count": 62,
   "id": "a68bdea2-c2d2-411b-9c2f-aae43100cdc0",
   "metadata": {},
   "outputs": [
    {
     "name": "stdin",
     "output_type": "stream",
     "text": [
      "Enter the price here:  400\n"
     ]
    },
    {
     "name": "stdout",
     "output_type": "stream",
     "text": [
      "I will buy\n"
     ]
    }
   ],
   "source": [
    "price=int(input(\"Enter the price here: \"))\n",
    "if price > 1000:\n",
    "    print(\"I will not buy\")\n",
    "else :\n",
    "    print(\"I will buy\")"
   ]
  },
  {
   "cell_type": "code",
   "execution_count": 67,
   "id": "208e0a58-af48-4129-a0c6-8c54cf3008c5",
   "metadata": {},
   "outputs": [],
   "source": [
    "l1=[1,2,3,4,88,6,7,8]"
   ]
  },
  {
   "cell_type": "code",
   "execution_count": 72,
   "id": "5386bc15-6531-4cb3-a83f-436f4bf31880",
   "metadata": {},
   "outputs": [
    {
     "data": {
      "text/plain": [
       "[2, 3, 4, 5, 89, 7, 8, 9]"
      ]
     },
     "execution_count": 72,
     "metadata": {},
     "output_type": "execute_result"
    }
   ],
   "source": [
    "l2 = []\n",
    "for i in l1 :\n",
    "    l2.append(i+1)\n",
    "l2"
   ]
  },
  {
   "cell_type": "code",
   "execution_count": 75,
   "id": "da91321e-c813-4ead-b310-636b90a7af5d",
   "metadata": {},
   "outputs": [
    {
     "name": "stdout",
     "output_type": "stream",
     "text": [
      "harsh\n",
      "mahar\n"
     ]
    }
   ],
   "source": [
    "l3=[\"harsh\",\"mahar\"]\n",
    "l4=[]\n",
    "for i in l3:\n",
    "    print(i)\n",
    "    l4.append(i.upper())"
   ]
  },
  {
   "cell_type": "code",
   "execution_count": 76,
   "id": "0455f7f9-34f1-42f5-82f2-2e0a5249319b",
   "metadata": {},
   "outputs": [
    {
     "data": {
      "text/plain": [
       "['HARSH', 'MAHAR']"
      ]
     },
     "execution_count": 76,
     "metadata": {},
     "output_type": "execute_result"
    }
   ],
   "source": [
    "l4"
   ]
  },
  {
   "cell_type": "code",
   "execution_count": 77,
   "id": "ff3eedcd-c663-412a-86f5-dfe2c38070aa",
   "metadata": {},
   "outputs": [],
   "source": [
    "l=[1,2,5,88,\"mohit\",465,78.5,\"Meera\"]\n"
   ]
  },
  {
   "cell_type": "code",
   "execution_count": 82,
   "id": "bb420f68-4ef1-4172-81e8-4e379b143e63",
   "metadata": {},
   "outputs": [],
   "source": [
    "l11=[]\n",
    "l22=[]\n",
    "for i in l:\n",
    "    if type(i)==int or type(i)==float:\n",
    "        l11.append(i)\n",
    "    elif type(i)==str:\n",
    "        l22.append(i)\n",
    "        "
   ]
  },
  {
   "cell_type": "code",
   "execution_count": 83,
   "id": "17e0941b-eaf7-4f2e-802f-f6f6f3935725",
   "metadata": {},
   "outputs": [
    {
     "data": {
      "text/plain": [
       "[1, 2, 5, 88, 465, 78.5]"
      ]
     },
     "execution_count": 83,
     "metadata": {},
     "output_type": "execute_result"
    }
   ],
   "source": [
    "l11"
   ]
  },
  {
   "cell_type": "code",
   "execution_count": 84,
   "id": "2db8a257-9179-43ec-bd1b-7caba9220206",
   "metadata": {},
   "outputs": [
    {
     "data": {
      "text/plain": [
       "['mohit', 'Meera']"
      ]
     },
     "execution_count": 84,
     "metadata": {},
     "output_type": "execute_result"
    }
   ],
   "source": [
    "l22"
   ]
  },
  {
   "cell_type": "code",
   "execution_count": null,
   "id": "8de3ebe7-3ac4-4545-9bbd-00932892e6c9",
   "metadata": {},
   "outputs": [],
   "source": []
  }
 ],
 "metadata": {
  "kernelspec": {
   "display_name": "Python 3 (ipykernel)",
   "language": "python",
   "name": "python3"
  },
  "language_info": {
   "codemirror_mode": {
    "name": "ipython",
    "version": 3
   },
   "file_extension": ".py",
   "mimetype": "text/x-python",
   "name": "python",
   "nbconvert_exporter": "python",
   "pygments_lexer": "ipython3",
   "version": "3.10.8"
  }
 },
 "nbformat": 4,
 "nbformat_minor": 5
}
