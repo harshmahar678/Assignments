{
 "cells": [
  {
   "cell_type": "markdown",
   "id": "7c949e24-3861-4610-8e0b-372c77744ff6",
   "metadata": {},
   "source": [
    "# Ans-1\n",
    "### Guido van Rossum"
   ]
  },
  {
   "cell_type": "markdown",
   "id": "66325e68-565a-43dd-8fbf-a4a71856b2d0",
   "metadata": {},
   "source": [
    "# Ans-2\n",
    "### Object-oriented programming and structured programming\n"
   ]
  },
  {
   "cell_type": "markdown",
   "id": "c88277d1-8153-42d2-bc39-772c4a6b9bb9",
   "metadata": {},
   "source": [
    "# Ans-3\n",
    "### Yes ,It is case sensitive."
   ]
  },
  {
   "cell_type": "markdown",
   "id": "b3155106-4a5b-42a6-b415-b4723ec37798",
   "metadata": {},
   "source": [
    "# Ans-4\n",
    "### .py"
   ]
  },
  {
   "cell_type": "markdown",
   "id": "ffd6992a-b0b5-49da-a9ec-fe41307c95f6",
   "metadata": {},
   "source": [
    "# Ans-5\n",
    "### Interpreted"
   ]
  },
  {
   "cell_type": "markdown",
   "id": "063fc535-717b-4a07-936c-3f3ba4b24a3e",
   "metadata": {},
   "source": [
    "# Ans-6\n",
    "### a module, a function body, and a class definition.\n"
   ]
  },
  {
   "cell_type": "markdown",
   "id": "ae346041-4734-46bc-9194-a61aafce6e56",
   "metadata": {},
   "source": [
    "# Ans-7\n",
    "### #(Hash)"
   ]
  },
  {
   "cell_type": "markdown",
   "id": "57b30419-c5ad-440a-80bb-dfa0d557feb1",
   "metadata": {},
   "source": [
    "# Ans-8 \n",
    "### To check the version in python we have to first import a package from platform import python_version \n",
    "### After importing we can use the python_version() function to get the version "
   ]
  },
  {
   "cell_type": "code",
   "execution_count": 4,
   "id": "0057a5af-22fe-4fd9-b321-302f8b27fe6e",
   "metadata": {},
   "outputs": [
    {
     "data": {
      "text/plain": [
       "'3.10.8'"
      ]
     },
     "execution_count": 4,
     "metadata": {},
     "output_type": "execute_result"
    }
   ],
   "source": [
    "from platform import python_version\n",
    "python_version()"
   ]
  },
  {
   "cell_type": "markdown",
   "id": "a01c9c74-44b8-4e8d-9b7f-5bc91f5d5707",
   "metadata": {},
   "source": [
    "# Ans-9\n",
    "### lambda"
   ]
  },
  {
   "cell_type": "markdown",
   "id": "8dcad2ec-35e9-47ee-a3d5-d0d54ffe953a",
   "metadata": {},
   "source": [
    "# Ans-10\n",
    "### preferred installer program"
   ]
  },
  {
   "cell_type": "markdown",
   "id": "24212721-5bc9-414a-a49c-ca8463a507b7",
   "metadata": {},
   "source": [
    "# Ans-11\n",
    "### abs() , ascii() , float() , input()"
   ]
  },
  {
   "cell_type": "markdown",
   "id": "bcaf2035-b08f-44ee-83e1-2557e0eae94d",
   "metadata": {},
   "source": [
    "# Ans-12\n",
    "### 79"
   ]
  },
  {
   "cell_type": "markdown",
   "id": "9a952b47-7dba-4ee4-bc20-87d4a41de4a2",
   "metadata": {},
   "source": [
    "# Ans-13\n",
    "### Python is commonly used for developing websites and software, task automation, data analysis, and data visualization. Since it's relatively easy to learn, Python has been adopted by many non-programmers such as accountants and scientists, for a variety of everyday tasks, like organizing finances"
   ]
  },
  {
   "cell_type": "markdown",
   "id": "863a249e-ef15-4de2-ab7c-523a738be826",
   "metadata": {},
   "source": [
    "# Ans-14\n",
    "### Memory management in Python involves a private heap containing all Python objects and data structures. The management of this private heap is ensured internally by the Python memory manager"
   ]
  },
  {
   "cell_type": "markdown",
   "id": "9de4e81d-c95f-46c5-9456-efc7f9cd9a25",
   "metadata": {},
   "source": [
    "# Ans-15\n",
    "### The complete path of python.exe can be added by:\n",
    "### Right-clicking This PC and going to Properties.\n",
    "### Clicking on the Advanced system settings in the menu on the left.\n",
    "### Clicking on the Environment Variables button o​n the bottom right.\n",
    "### In the System variables section, selecting the Path variable and clicking on Edit."
   ]
  },
  {
   "cell_type": "markdown",
   "id": "0f70076a-8262-41db-a2bb-6316ffd26a99",
   "metadata": {},
   "source": [
    "# Ans-16\n",
    "### Yes \n"
   ]
  },
  {
   "cell_type": "code",
   "execution_count": null,
   "id": "ba8e4db1-8792-48c1-8849-e4658c737633",
   "metadata": {},
   "outputs": [],
   "source": []
  }
 ],
 "metadata": {
  "kernelspec": {
   "display_name": "Python 3 (ipykernel)",
   "language": "python",
   "name": "python3"
  },
  "language_info": {
   "codemirror_mode": {
    "name": "ipython",
    "version": 3
   },
   "file_extension": ".py",
   "mimetype": "text/x-python",
   "name": "python",
   "nbconvert_exporter": "python",
   "pygments_lexer": "ipython3",
   "version": "3.10.8"
  }
 },
 "nbformat": 4,
 "nbformat_minor": 5
}
